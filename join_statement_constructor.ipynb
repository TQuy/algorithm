{
 "cells": [
  {
   "cell_type": "markdown",
   "metadata": {},
   "source": [
    "# Construct Join Statement for SQL\n"
   ]
  },
  {
   "cell_type": "code",
   "execution_count": 21,
   "metadata": {},
   "outputs": [],
   "source": [
    "from dataclasses import dataclass\n",
    "from typing import *"
   ]
  },
  {
   "cell_type": "code",
   "execution_count": 83,
   "metadata": {},
   "outputs": [],
   "source": [
    "@dataclass\n",
    "class Table:\n",
    "    \"\"\"SQL Table\"\"\"\n",
    "    def __init__(self, database: str, name: str, alias: str = \"\"):\n",
    "        self.database = database\n",
    "        self.name = name\n",
    "        self.alias = alias if alias else self.name\n",
    "\n",
    "@dataclass\n",
    "class JoinStep:\n",
    "    source_table: Table\n",
    "    target_table: Table\n",
    "    join_fields: Tuple[str, str]\n",
    "\n",
    "\n",
    "class SQLJoinConstructor:\n",
    "    \"\"\"SQL Join Constructor\"\"\"\n",
    "    @classmethod\n",
    "    def construct_join_statement(cls, pipeline: Sequence[JoinStep], existed_tables: set[Table] | None = None, depth: int = 0) -> str:\n",
    "        \"\"\"Construct SQL join statement\"\"\"\n",
    "        join_query = \"\"\n",
    "        if len(pipeline) == 0:\n",
    "            return \"\"\n",
    "        if depth > 20:\n",
    "            raise Exception(\"Maximum depth of recursion reached.\")\n",
    "        local_existed_tables = set() if existed_tables is None else existed_tables\n",
    "        current_step = pipeline[0]\n",
    "        remaining_steps = pipeline[1:]\n",
    "        source_table, target_table = current_step.source_table, current_step.target_table\n",
    "        target_table_full_name = f\"{target_table.database}.{target_table.name}\"\n",
    "        source_table_full_name = f\"{source_table.database}.{source_table.name}\"\n",
    "        if target_table_full_name not in local_existed_tables:\n",
    "            return cls.construct_join_statement(\n",
    "                pipeline=[*remaining_steps, current_step], \n",
    "                existed_tables=local_existed_tables,\n",
    "                depth=depth+1,\n",
    "            )\n",
    "        source_field, target_field = current_step.join_fields[0], current_step.join_fields[1]\n",
    "        join_statement = f\"\"\"\n",
    "        INNER JOIN {source_table.database}.{source_table.name} as {source_table.alias}\n",
    "            ON {source_table.alias}.{source_field} = {target_table.alias}.{target_field}\n",
    "        \"\"\"\n",
    "        join_query = join_statement\n",
    "        local_existed_tables.add(source_table_full_name)\n",
    "\n",
    "        return join_query + cls.construct_join_statement(\n",
    "                pipeline=remaining_steps, \n",
    "                existed_tables=local_existed_tables,\n",
    "                depth=depth+1,\n",
    "            )"
   ]
  },
  {
   "cell_type": "code",
   "execution_count": 72,
   "metadata": {},
   "outputs": [],
   "source": [
    "database = \"applydb_prod\"\n",
    "table_a = Table(database=database, name=\"table_a\")\n",
    "table_b = Table(database=database, name=\"table_b\")\n",
    "table_c = Table(database=database, name=\"table_c\")\n",
    "table_d = Table(database=database, name=\"table_d\")\n",
    "join_conf = [\n",
    "    JoinStep(table_d, table_c, (\"column_3\", \"column_3\")),\n",
    "    JoinStep(table_c, table_b, (\"column_2\", \"column_2\")),\n",
    "    JoinStep(table_b, table_a, (\"column_1\", \"column_1\")),\n",
    "]"
   ]
  },
  {
   "cell_type": "code",
   "execution_count": 84,
   "metadata": {},
   "outputs": [
    {
     "name": "stdout",
     "output_type": "stream",
     "text": [
      "join_query: \n",
      "        INNER JOIN applydb_prod.table_b as table_b\n",
      "            ON table_b.column_1 = table_a.column_1\n",
      "        \n",
      "        INNER JOIN applydb_prod.table_c as table_c\n",
      "            ON table_c.column_2 = table_b.column_2\n",
      "        \n",
      "        INNER JOIN applydb_prod.table_d as table_d\n",
      "            ON table_d.column_3 = table_c.column_3\n",
      "        \n"
     ]
    }
   ],
   "source": [
    "join_query = SQLJoinConstructor.construct_join_statement(\n",
    "    pipeline=join_conf,\n",
    "    existed_tables=set([f\"{table_a.database}.{table_a.name}\"])\n",
    ")\n",
    "print(f\"join_query: {join_query}\")"
   ]
  }
 ],
 "metadata": {
  "kernelspec": {
   "display_name": "Python 3",
   "language": "python",
   "name": "python3"
  },
  "language_info": {
   "codemirror_mode": {
    "name": "ipython",
    "version": 3
   },
   "file_extension": ".py",
   "mimetype": "text/x-python",
   "name": "python",
   "nbconvert_exporter": "python",
   "pygments_lexer": "ipython3",
   "version": "3.10.12"
  }
 },
 "nbformat": 4,
 "nbformat_minor": 2
}
